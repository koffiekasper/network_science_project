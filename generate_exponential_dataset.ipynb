{
 "cells": [
  {
   "cell_type": "code",
   "execution_count": 6,
   "id": "8e3f6a2f5a7418d6",
   "metadata": {
    "collapsed": false
   },
   "outputs": [
    {
     "name": "stderr",
     "output_type": "stream",
     "text": [
      "/var/folders/0c/kb824dp55mv5r_ksvh54vyqr0000gn/T/ipykernel_18906/2504217289.py:15: FutureWarning: The behavior of DataFrame concatenation with empty or all-NA entries is deprecated. In a future version, this will no longer exclude empty or all-NA columns when determining the result dtypes. To retain the old behavior, exclude the relevant entries before the concat operation.\n",
      "  .apply(lambda x: pd.DataFrame(combinations(x, 2), columns=['artist_a', 'artist_b'])\n",
      "/var/folders/0c/kb824dp55mv5r_ksvh54vyqr0000gn/T/ipykernel_18906/2504217289.py:26: RuntimeWarning: overflow encountered in exp\n",
      "  f.write(f'{row[\"artist_a\"].values[0]} {row[\"artist_b\"].values[0]} {exp(row[\"weight\"][\"sum\"])}\\n')\n"
     ]
    }
   ],
   "source": [
    "import pandas as pd\n",
    "from itertools import combinations\n",
    "from numpy import exp\n",
    "\n",
    "# Load the Excel file\n",
    "file_path = './artist_data_with_movements_progress.xlsx'  # Replace with your actual file path\n",
    "data = pd.read_excel(file_path)\n",
    "\n",
    "# Select only the required columns\n",
    "data = data[['ExhibitionID', 'ConstituentID']]\n",
    "\n",
    "# Step 1: Create pairs of artists for each exhibition\n",
    "pairs = (\n",
    "    data.groupby('ExhibitionID')['ConstituentID']\n",
    "    .apply(lambda x: pd.DataFrame(combinations(x, 2), columns=['artist_a', 'artist_b'])\n",
    "           .assign(weight=1)\n",
    "))\n",
    "\n",
    "pairs_summed = pairs.groupby(['artist_a', 'artist_b']).agg(['sum', 'count']).reset_index()\n",
    "pairs_summed = pairs_summed[pairs_summed.weight['count'] > 0]\n",
    "\n",
    "output_dot_file = 'artist_pairs_exponential.dot'\n",
    "\n",
    "with open(output_dot_file, 'w') as f:\n",
    "    for _, row in pairs_summed.iterrows():\n",
    "        f.write(f'{row[\"artist_a\"].values[0]} {row[\"artist_b\"].values[0]} {exp(row[\"weight\"][\"sum\"])}\\n')"
   ]
  }
 ],
 "metadata": {
  "kernelspec": {
   "display_name": "Python 3",
   "language": "python",
   "name": "python3"
  },
  "language_info": {
   "codemirror_mode": {
    "name": "ipython",
    "version": 3
   },
   "file_extension": ".py",
   "mimetype": "text/x-python",
   "name": "python",
   "nbconvert_exporter": "python",
   "pygments_lexer": "ipython3",
   "version": "3.10.13"
  }
 },
 "nbformat": 4,
 "nbformat_minor": 5
}
