{
 "cells": [
  {
   "cell_type": "code",
   "execution_count": 1,
   "id": "initial_id",
   "metadata": {
    "ExecuteTime": {
     "end_time": "2024-05-27T12:54:53.187375Z",
     "start_time": "2024-05-27T12:54:50.313077Z"
    },
    "collapsed": true
   },
   "outputs": [
    {
     "name": "stderr",
     "output_type": "stream",
     "text": [
      "/var/folders/0c/kb824dp55mv5r_ksvh54vyqr0000gn/T/ipykernel_46751/3080960574.py:14: FutureWarning: The behavior of DataFrame concatenation with empty or all-NA entries is deprecated. In a future version, this will no longer exclude empty or all-NA columns when determining the result dtypes. To retain the old behavior, exclude the relevant entries before the concat operation.\n",
      "  .apply(lambda x: pd.DataFrame(combinations(x, 2), columns=['artist_a', 'artist_b'])\n"
     ]
    }
   ],
   "source": [
    "import pandas as pd\n",
    "from itertools import combinations\n",
    "\n",
    "# Load the Excel file\n",
    "file_path = './complete_dataset.xlsx'  # Replace with your actual file path\n",
    "data = pd.read_excel(file_path)\n",
    "\n",
    "# Select only the required columns\n",
    "data = data[['ExhibitionID', 'ConstituentID']]\n",
    "\n",
    "# Step 1: Create pairs of artists for each exhibition\n",
    "pairs = (\n",
    "    data.groupby('ExhibitionID')['ConstituentID']\n",
    "    .apply(lambda x: pd.DataFrame(combinations(x, 2), columns=['artist_a', 'artist_b'])\n",
    "           .assign(weight=1/len(x))\n",
    "))\n",
    "\n",
    "pairs_summed = pairs.groupby(['artist_a', 'artist_b']).agg(['sum', 'count']).reset_index()\n",
    "pairs_summed = pairs_summed[pairs_summed.weight['count'] > 0]\n",
    "\n",
    "output_dot_file = 'artist_pairs_weighed_sum.dot'\n",
    "\n",
    "with open(output_dot_file, 'w') as f:\n",
    "    for _, row in pairs_summed.iterrows():\n",
    "        f.write(f'{row[\"artist_a\"].values[0]} {row[\"artist_b\"].values[0]} {row[\"weight\"][\"sum\"]}\\n')"
   ]
  }
 ],
 "metadata": {
  "kernelspec": {
   "display_name": "Python 3",
   "language": "python",
   "name": "python3"
  },
  "language_info": {
   "codemirror_mode": {
    "name": "ipython",
    "version": 3
   },
   "file_extension": ".py",
   "mimetype": "text/x-python",
   "name": "python",
   "nbconvert_exporter": "python",
   "pygments_lexer": "ipython3",
   "version": "3.10.13"
  }
 },
 "nbformat": 4,
 "nbformat_minor": 5
}
