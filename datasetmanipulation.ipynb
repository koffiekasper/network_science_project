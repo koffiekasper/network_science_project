{
 "cells": [
  {
   "cell_type": "code",
   "execution_count": 4,
   "id": "initial_id",
   "metadata": {
    "ExecuteTime": {
     "end_time": "2024-05-27T12:54:53.187375Z",
     "start_time": "2024-05-27T12:54:50.313077Z"
    },
    "collapsed": true
   },
   "outputs": [
    {
     "name": "stderr",
     "output_type": "stream",
     "text": [
      "/var/folders/0c/kb824dp55mv5r_ksvh54vyqr0000gn/T/ipykernel_45712/3816826083.py:14: FutureWarning: The behavior of DataFrame concatenation with empty or all-NA entries is deprecated. In a future version, this will no longer exclude empty or all-NA columns when determining the result dtypes. To retain the old behavior, exclude the relevant entries before the concat operation.\n",
      "  .apply(lambda x: pd.DataFrame(combinations(x, 2), columns=['artist_a', 'artist_b']))\n"
     ]
    },
    {
     "name": "stdout",
     "output_type": "stream",
     "text": [
      "       artist_a  artist_b  weight\n",
      "0           1.0      11.0       3\n",
      "1           1.0     262.0       1\n",
      "2           1.0     406.0       4\n",
      "3           1.0     412.0       3\n",
      "4           1.0     452.0       1\n",
      "...         ...       ...     ...\n",
      "84681   66686.0    3400.0       1\n",
      "84682   66686.0    3567.0       1\n",
      "84683   66686.0    4945.0       1\n",
      "84684   66730.0    2927.0       1\n",
      "84685   66730.0    7569.0       1\n",
      "\n",
      "[84686 rows x 3 columns]\n",
      "Result saved to artist_pairs_with_weights.dot\n"
     ]
    }
   ],
   "source": [
    "import pandas as pd\n",
    "from itertools import combinations\n",
    "\n",
    "# Load the Excel file\n",
    "file_path = './complete_dataset.xlsx'  # Replace with your actual file path\n",
    "data = pd.read_excel(file_path)\n",
    "\n",
    "# Select only the required columns\n",
    "data = data[['ExhibitionID', 'ConstituentID']]\n",
    "\n",
    "# Step 1: Create pairs of artists for each exhibition\n",
    "pairs = (\n",
    "    data.groupby('ExhibitionID')['ConstituentID']\n",
    "    .apply(lambda x: pd.DataFrame(combinations(x, 2), columns=['artist_a', 'artist_b']))\n",
    "    .reset_index(drop=True)\n",
    ")\n",
    "\n",
    "# Step 2: Count occurrences of each artist pair across exhibitions\n",
    "result = (\n",
    "    pairs.groupby(['artist_a', 'artist_b'])\n",
    "    .size()\n",
    "    .reset_index(name='weight')\n",
    ")\n",
    "\n",
    "#this is where i adjust what i want (like only weights larger than 1) \n",
    "result = result[result['weight'] > 0]\n",
    "\n",
    "# Step 3: Save the result as a .dot file\n",
    "output_dot_file = 'artist_pairs_with_weights.dot'\n",
    "\n",
    "with open(output_dot_file, 'w') as f:\n",
    "    for _, row in result.iterrows():\n",
    "        f.write(f'{row[\"artist_a\"]} {row[\"artist_b\"]} {row[\"weight\"]}\\n')\n",
    "\n",
    "# Print the result\n",
    "print(result)\n",
    "print(f\"Result saved to {output_dot_file}\")"
   ]
  },
  {
   "cell_type": "code",
   "execution_count": 7,
   "id": "423134b81df97d58",
   "metadata": {
    "ExecuteTime": {
     "end_time": "2024-05-27T13:06:55.544675Z",
     "start_time": "2024-05-27T13:06:42.500760Z"
    },
    "collapsed": false
   },
   "outputs": [
    {
     "name": "stdout",
     "output_type": "stream",
     "text": [
      "    weight  number_of_edges\n",
      "0        1           943071\n",
      "1        2            76419\n",
      "2        3            24380\n",
      "3        4            10813\n",
      "4        5             6038\n",
      "..     ...              ...\n",
      "75      87                1\n",
      "77      90                1\n",
      "70      97                1\n",
      "65     103                1\n",
      "68     121                1\n",
      "\n",
      "[78 rows x 2 columns]\n",
      "Edge count summary saved to edge_counts.csv\n",
      "DOT file saved to artist_pairs_with_weights.dot\n"
     ]
    }
   ],
   "source": [
    "import pandas as pd\n",
    "from itertools import combinations\n",
    "\n",
    "# Load the Excel file\n",
    "file_path = '/Users/maggie/Desktop/New Folder With Items/dataset_smaller.xlsx'  # Replace with your actual file path\n",
    "data = pd.read_excel(file_path)\n",
    "\n",
    "# Select only the required columns\n",
    "data = data[['ExhibitionID', 'ConstituentID']]\n",
    "\n",
    "# Step 1: Create pairs of artists for each exhibition\n",
    "pairs = (\n",
    "    data.groupby('ExhibitionID')['ConstituentID']\n",
    "    .apply(lambda x: pd.DataFrame(combinations(x, 2), columns=['artist_a', 'artist_b']))\n",
    "    .reset_index(drop=True)\n",
    ")\n",
    "\n",
    "# Step 2: Count occurrences of each artist pair across exhibitions\n",
    "result = (\n",
    "    pairs.groupby(['artist_a', 'artist_b'])\n",
    "    .size()\n",
    "    .reset_index(name='weight')\n",
    ")\n",
    "\n",
    "# Verify that all pairs have a weight of at least 1\n",
    "# (This step is optional, as the logic inherently ensures this)\n",
    "result = result[result['weight'] > 0]\n",
    "\n",
    "# Step 3: Save the result as a .dot file\n",
    "output_dot_file = 'artist_pairs_with_weights.dot'\n",
    "\n",
    "with open(output_dot_file, 'w') as f:\n",
    "    for _, row in result.iterrows():\n",
    "        f.write(f'{row[\"artist_a\"]} {row[\"artist_b\"]} {row[\"weight\"]}\\n')\n",
    "\n",
    "# Step 4: Create a table that shows how many edges per weight there are\n",
    "edge_counts = result['weight'].value_counts().reset_index()\n",
    "edge_counts.columns = ['weight', 'number_of_edges']\n",
    "edge_counts = edge_counts.sort_values(by='weight')\n",
    "\n",
    "# Print the edge count summary\n",
    "print(edge_counts)\n",
    "\n",
    "# Save the edge count summary as a CSV file (optional)\n",
    "edge_count_file_path = 'edge_counts.csv'\n",
    "edge_counts.to_csv(edge_count_file_path, index=False)\n",
    "\n",
    "print(f\"Edge count summary saved to {edge_count_file_path}\")\n",
    "print(f\"DOT file saved to {output_dot_file}\")\n"
   ]
  },
  {
   "cell_type": "code",
   "execution_count": null,
   "id": "8e3f6a2f5a7418d6",
   "metadata": {
    "collapsed": false
   },
   "outputs": [],
   "source": []
  }
 ],
 "metadata": {
  "kernelspec": {
   "display_name": "Python 3",
   "language": "python",
   "name": "python3"
  },
  "language_info": {
   "codemirror_mode": {
    "name": "ipython",
    "version": 3
   },
   "file_extension": ".py",
   "mimetype": "text/x-python",
   "name": "python",
   "nbconvert_exporter": "python",
   "pygments_lexer": "ipython3",
   "version": "3.10.13"
  }
 },
 "nbformat": 4,
 "nbformat_minor": 5
}
